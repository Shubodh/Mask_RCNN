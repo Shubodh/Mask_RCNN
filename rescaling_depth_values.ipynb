{
 "cells": [
  {
   "cell_type": "code",
   "execution_count": 1,
   "metadata": {},
   "outputs": [],
   "source": [
    "import numpy as np"
   ]
  },
  {
   "cell_type": "code",
   "execution_count": 18,
   "metadata": {},
   "outputs": [],
   "source": [
    "x = np.array([[10.909,-0.2783, 0.0487],\n",
    "             [8.5974, 0.161,0.116],\n",
    "             [14.196,-0.723,-0.215],\n",
    "             [9.346, -0.6397, -0.464],\n",
    "             [11.234, -0.5, -0.105],\n",
    "             [16.43, 3.5, -2.3],\n",
    "             [10.53, -1.301, -2.349],\n",
    "             [15.83,-1.11,-0.248],\n",
    "             [14.12,-0.088,-0.005],\n",
    "             [15.63, -1.35, -0.327],\n",
    "             [11.37, -0.363, -0.08],\n",
    "             [15.76, -0.84, 0.188],\n",
    "             [15.36,-0.86,-0.17],\n",
    "             [15.8375, -1.129, 0.162],                        \n",
    "             [14.81, -0.485, -2.24],\n",
    "             [13.75, -0.798, 0.885],\n",
    "             [16.7,0.06,-0.37],\n",
    "             [10.235, -1.29, 0.86]])"
   ]
  },
  {
   "cell_type": "code",
   "execution_count": 19,
   "metadata": {},
   "outputs": [
    {
     "data": {
      "text/plain": [
       "array([[ 2.54542857, -0.65094286, -0.55751429],\n",
       "       [ 1.88497143, -0.52542857, -0.53828571],\n",
       "       [ 3.48457143, -0.778     , -0.63285714],\n",
       "       [ 2.09885714, -0.7542    , -0.704     ],\n",
       "       [ 2.63828571, -0.71428571, -0.60142857],\n",
       "       [ 4.12285714,  0.42857143, -1.22857143],\n",
       "       [ 2.43714286, -0.94314286, -1.24257143],\n",
       "       [ 3.95142857, -0.88857143, -0.64228571],\n",
       "       [ 3.46285714, -0.59657143, -0.57285714],\n",
       "       [ 3.89428571, -0.95714286, -0.66485714],\n",
       "       [ 2.67714286, -0.67514286, -0.59428571],\n",
       "       [ 3.93142857, -0.81142857, -0.51771429],\n",
       "       [ 3.81714286, -0.81714286, -0.62      ],\n",
       "       [ 3.95357143, -0.894     , -0.52514286],\n",
       "       [ 3.66      , -0.71      , -1.21142857],\n",
       "       [ 3.35714286, -0.79942857, -0.31857143],\n",
       "       [ 4.2       , -0.55428571, -0.67714286],\n",
       "       [ 2.35285714, -0.94      , -0.32571429]])"
      ]
     },
     "execution_count": 19,
     "metadata": {},
     "output_type": "execute_result"
    }
   ],
   "source": [
    "((x[:,:]*10) - 20) / 35"
   ]
  },
  {
   "cell_type": "code",
   "execution_count": 24,
   "metadata": {},
   "outputs": [
    {
     "data": {
      "text/plain": [
       "0.02857142857142857"
      ]
     },
     "execution_count": 24,
     "metadata": {},
     "output_type": "execute_result"
    }
   ],
   "source": [
    "1/35"
   ]
  },
  {
   "cell_type": "code",
   "execution_count": 23,
   "metadata": {},
   "outputs": [
    {
     "data": {
      "text/plain": [
       "26.274509803921568"
      ]
     },
     "execution_count": 23,
     "metadata": {},
     "output_type": "execute_result"
    }
   ],
   "source": []
  },
  {
   "cell_type": "code",
   "execution_count": null,
   "metadata": {},
   "outputs": [],
   "source": []
  }
 ],
 "metadata": {
  "kernelspec": {
   "display_name": "Python 3",
   "language": "python",
   "name": "python3"
  },
  "language_info": {
   "codemirror_mode": {
    "name": "ipython",
    "version": 3
   },
   "file_extension": ".py",
   "mimetype": "text/x-python",
   "name": "python",
   "nbconvert_exporter": "python",
   "pygments_lexer": "ipython3",
   "version": "3.6.7"
  }
 },
 "nbformat": 4,
 "nbformat_minor": 2
}
